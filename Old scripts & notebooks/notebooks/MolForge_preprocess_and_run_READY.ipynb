{
 "cells": [
  {
   "cell_type": "markdown",
   "id": "e9382fbc",
   "metadata": {},
   "source": [
    "# MolForge – preprocess & run (Notebook listo)\n",
    "Este notebook fija el *cwd* al root del proyecto, usa `saved_models/` por vecindad, y fuerza que el checkpoint se pase por **nombre de archivo** para que `MolForge/predict.py` lo encuentre."
   ]
  },
  {
   "cell_type": "code",
   "execution_count": 1,
   "id": "8eb43359",
   "metadata": {},
   "outputs": [
    {
     "name": "stdout",
     "output_type": "stream",
     "text": [
      "📁 PROJECT_ROOT: /mnt/d/MolForge_Testing\n",
      "📁 DATA_DIR    : /mnt/d/MolForge_Testing/data\n",
      "📁 MODELS_DIR  : /mnt/d/MolForge_Testing/saved_models\n",
      "📁 OUTPUT_DIR  : /mnt/d/MolForge_Testing/data/MolForge_output\n"
     ]
    }
   ],
   "source": [
    "# === Bootstrap: coloca el cwd en la raíz del proyecto ===\n",
    "import os\n",
    "from pathlib import Path\n",
    "\n",
    "CANDIDATES = [\n",
    "    Path(\"/mnt/d/MolForge_Testing\"),                 # PC local (WSL)\n",
    "    Path(\"/export/home/ddiestre/MolForge_Testing\"),  # Laboratorio Linux\n",
    "]\n",
    "\n",
    "root = next((p for p in CANDIDATES if p.exists()), None)\n",
    "if root is None:\n",
    "    # fallback: sube hasta encontrar scripts/ y saved_models/\n",
    "    p = Path.cwd()\n",
    "    for _ in range(8):\n",
    "        if (p/\"scripts\").exists() and (p/\"saved_models\").exists():\n",
    "            root = p\n",
    "            break\n",
    "        if p.parent == p:\n",
    "            break\n",
    "        p = p.parent\n",
    "\n",
    "if root is None:\n",
    "    root = Path.cwd()\n",
    "    print(\"⚠️  No pude detectar automáticamente la raíz del proyecto; uso:\", root)\n",
    "else:\n",
    "    os.chdir(root)\n",
    "\n",
    "PROJECT_ROOT = Path.cwd().resolve()\n",
    "DATA_DIR     = PROJECT_ROOT / \"data\"\n",
    "MODELS_DIR   = PROJECT_ROOT / \"saved_models\"\n",
    "OUTPUT_DIR   = DATA_DIR / \"MolForge_output\"\n",
    "for d in (DATA_DIR, MODELS_DIR, OUTPUT_DIR):\n",
    "    d.mkdir(parents=True, exist_ok=True)\n",
    "\n",
    "print(\"📁 PROJECT_ROOT:\", PROJECT_ROOT)\n",
    "print(\"📁 DATA_DIR    :\", DATA_DIR)\n",
    "print(\"📁 MODELS_DIR  :\", MODELS_DIR)\n",
    "print(\"📁 OUTPUT_DIR  :\", OUTPUT_DIR)\n"
   ]
  },
  {
   "cell_type": "code",
   "execution_count": 2,
   "id": "cd6ca52f",
   "metadata": {},
   "outputs": [
    {
     "name": "stdout",
     "output_type": "stream",
     "text": [
      "Checkpoint en: /mnt/d/MolForge_Testing/saved_models/ECFP4_smiles_checkpoint.pth | existe: True\n",
      "Input en     : /mnt/d/MolForge_Testing/data/MolForge_input/test_1.csv | existe: True\n",
      "Salida en    : /mnt/d/MolForge_Testing/data/MolForge_output/molforge_outputs_demo.csv\n"
     ]
    }
   ],
   "source": [
    "# === Parámetros ===\n",
    "FP_NAME     = \"ECFP4\"\n",
    "MODEL_TYPE  = \"smiles\"   # [\"smiles\",\"selfies\"]\n",
    "DECODE      = \"greedy\"   # [\"greedy\",\"beam\"]\n",
    "\n",
    "# Nombre de checkpoint (NO ruta absoluta). Debe existir en saved_models/\n",
    "CHECKPOINT_NAME = \"ECFP4_smiles_checkpoint.pth\"\n",
    "\n",
    "# Entradas\n",
    "INPUT_PATH  = (DATA_DIR / \"MolForge_input\" / \"test_1.csv\")\n",
    "OUT_PATH    = (OUTPUT_DIR / \"molforge_outputs_demo.csv\")\n",
    "\n",
    "print(\"Checkpoint en:\", MODELS_DIR / CHECKPOINT_NAME, \"| existe:\", (MODELS_DIR / CHECKPOINT_NAME).exists())\n",
    "print(\"Input en     :\", INPUT_PATH, \"| existe:\", INPUT_PATH.exists())\n",
    "print(\"Salida en    :\", OUT_PATH)\n"
   ]
  },
  {
   "cell_type": "code",
   "execution_count": 3,
   "id": "8df55eda",
   "metadata": {},
   "outputs": [
    {
     "name": "stdout",
     "output_type": "stream",
     "text": [
      "Filas leídas: 3\n"
     ]
    },
    {
     "data": {
      "text/html": [
       "<div>\n",
       "<style scoped>\n",
       "    .dataframe tbody tr th:only-of-type {\n",
       "        vertical-align: middle;\n",
       "    }\n",
       "\n",
       "    .dataframe tbody tr th {\n",
       "        vertical-align: top;\n",
       "    }\n",
       "\n",
       "    .dataframe thead th {\n",
       "        text-align: right;\n",
       "    }\n",
       "</style>\n",
       "<table border=\"1\" class=\"dataframe\">\n",
       "  <thead>\n",
       "    <tr style=\"text-align: right;\">\n",
       "      <th></th>\n",
       "      <th>id</th>\n",
       "      <th>indices</th>\n",
       "    </tr>\n",
       "  </thead>\n",
       "  <tbody>\n",
       "    <tr>\n",
       "      <th>0</th>\n",
       "      <td>0</td>\n",
       "      <td>1 80 94 114 237 241 255 294 392 411 425 695 74...</td>\n",
       "    </tr>\n",
       "    <tr>\n",
       "      <th>1</th>\n",
       "      <td>1</td>\n",
       "      <td>97 101 314 378 389 442 501 650 728 817 896 909...</td>\n",
       "    </tr>\n",
       "    <tr>\n",
       "      <th>2</th>\n",
       "      <td>2</td>\n",
       "      <td>9 45 78 89 145 203 322 548 586 650 695 718 760...</td>\n",
       "    </tr>\n",
       "  </tbody>\n",
       "</table>\n",
       "</div>"
      ],
      "text/plain": [
       "  id                                            indices\n",
       "0  0  1 80 94 114 237 241 255 294 392 411 425 695 74...\n",
       "1  1  97 101 314 378 389 442 501 650 728 817 896 909...\n",
       "2  2  9 45 78 89 145 203 322 548 586 650 695 718 760..."
      ]
     },
     "execution_count": 3,
     "metadata": {},
     "output_type": "execute_result"
    }
   ],
   "source": [
    "# === Utilidades para leer el fichero de entrada y normalizar a 'indices' ===\n",
    "import pandas as pd\n",
    "import os\n",
    "\n",
    "def _read_any_table(path: str) -> pd.DataFrame:\n",
    "    ext = os.path.splitext(path)[1].lower()\n",
    "    if ext == \".parquet\":\n",
    "        return pd.read_parquet(path)\n",
    "    if ext == \".tsv\":\n",
    "        return pd.read_csv(path, sep=\"\\t\")\n",
    "    if ext == \".csv\":\n",
    "        return pd.read_csv(path, sep=\",\")\n",
    "    if ext == \".txt\":\n",
    "        return pd.read_csv(path, sep=None, engine=\"python\", header=\"infer\")\n",
    "    return pd.read_csv(path, sep=None, engine=\"python\", header=\"infer\")\n",
    "\n",
    "def _active_indices(row_bits):\n",
    "    return \" \".join(str(i) for i, v in enumerate(row_bits) if int(v) == 1)\n",
    "\n",
    "def read_fps_as_indices_df(path):\n",
    "    df = _read_any_table(str(path))\n",
    "    if \"indices\" in df.columns:\n",
    "        out = pd.DataFrame()\n",
    "        out[\"id\"] = df[\"id\"].astype(str) if \"id\" in df.columns else df.index.astype(str)\n",
    "        out[\"indices\"] = df[\"indices\"].astype(str).fillna(\"\")\n",
    "        return out\n",
    "    if df.shape[1] == 1:\n",
    "        col = df.columns[0]\n",
    "        out = pd.DataFrame()\n",
    "        out[\"id\"] = df.index.astype(str)\n",
    "        out[\"indices\"] = df[col].astype(str).fillna(\"\")\n",
    "        return out\n",
    "    bit_cols = [c for c in df.columns if c.startswith(\"fp_\")]\n",
    "    if bit_cols:\n",
    "        bit_cols = sorted(bit_cols, key=lambda c: int(c.split(\"_\")[1]))\n",
    "        out = pd.DataFrame()\n",
    "        out[\"id\"] = df[\"id\"].astype(str) if \"id\" in df.columns else df.index.astype(str)\n",
    "        out[\"indices\"] = [_active_indices(df.loc[i, bit_cols]) for i in range(len(df))]\n",
    "        return out\n",
    "    raise SystemExit(\"Formato no soportado: aporta 'indices', 1 columna, o 'fp_0000..fp_N'.\")\n",
    "\n",
    "df_idx = read_fps_as_indices_df(INPUT_PATH)\n",
    "print(\"Filas leídas:\", len(df_idx))\n",
    "df_idx.head()\n"
   ]
  },
  {
   "cell_type": "code",
   "execution_count": 4,
   "id": "f6fe37b2",
   "metadata": {},
   "outputs": [
    {
     "name": "stdout",
     "output_type": "stream",
     "text": [
      "✅ run_for_fp listo (usa basename del checkpoint).\n"
     ]
    }
   ],
   "source": [
    "# === Envoltorio MolForge: pasar SOLO el nombre del checkpoint (basename) ===\n",
    "import sys, io\n",
    "from contextlib import redirect_stdout\n",
    "from pathlib import Path\n",
    "from MolForge.predict import main as molforge_main\n",
    "\n",
    "def run_for_fp(indices_str: str, fp_name: str, model_type: str, checkpoint_name: str, decode: str):\n",
    "    assert (MODELS_DIR / checkpoint_name).exists(), f\"No existe {MODELS_DIR/checkpoint_name}\"\n",
    "    argv_backup = sys.argv\n",
    "    sys.argv = [\n",
    "        \"predict.py\",\n",
    "        f\"--fp={fp_name}\",\n",
    "        f\"--model_type={model_type}\",\n",
    "        f\"--input={indices_str}\",\n",
    "        f\"--checkpoint={checkpoint_name}\",  # << clave: solo nombre\n",
    "        f\"--decode={decode}\",\n",
    "    ]\n",
    "    buf = io.StringIO()\n",
    "    try:\n",
    "        with redirect_stdout(buf):\n",
    "            molforge_main()\n",
    "    finally:\n",
    "        sys.argv = argv_backup\n",
    "    out = buf.getvalue()\n",
    "    for line in out.splitlines():\n",
    "        if line.strip().startswith(\"Result:\"):\n",
    "            return line.split(\"Result:\", 1)[1].strip().replace(\" \", \"\")\n",
    "    return None\n",
    "\n",
    "print(\"✅ run_for_fp listo (usa basename del checkpoint).\")\n"
   ]
  },
  {
   "cell_type": "code",
   "execution_count": 5,
   "id": "194af9c1",
   "metadata": {},
   "outputs": [
    {
     "name": "stdout",
     "output_type": "stream",
     "text": [
      "[1/3] id=0 -> CCOC1=C(C=C(C=C1)C(C(C)(C)C)N)OCC\n",
      "[2/3] id=1 -> C1=CC=C(C=C1)C2C=C(NC(=O)C2C3=NC(=S)NC(=O)C34C(=NC(=S)NC4=O)C5=CC=C(C=C5)Br)C6=CC=C(C=C6)Br\n",
      "[3/3] id=2 -> COC1=CC=C(C=C1)C(=O)C2=C(C(=C3N2C4=CC=CC=C4C=C3)C(=O)OC)C(=O)OC\n",
      "[OK] Guardado: /mnt/d/MolForge_Testing/data/MolForge_output/molforge_outputs_demo.csv | filas= 3\n"
     ]
    },
    {
     "data": {
      "text/html": [
       "<div>\n",
       "<style scoped>\n",
       "    .dataframe tbody tr th:only-of-type {\n",
       "        vertical-align: middle;\n",
       "    }\n",
       "\n",
       "    .dataframe tbody tr th {\n",
       "        vertical-align: top;\n",
       "    }\n",
       "\n",
       "    .dataframe thead th {\n",
       "        text-align: right;\n",
       "    }\n",
       "</style>\n",
       "<table border=\"1\" class=\"dataframe\">\n",
       "  <thead>\n",
       "    <tr style=\"text-align: right;\">\n",
       "      <th></th>\n",
       "      <th>id</th>\n",
       "      <th>molforge_smiles</th>\n",
       "    </tr>\n",
       "  </thead>\n",
       "  <tbody>\n",
       "    <tr>\n",
       "      <th>0</th>\n",
       "      <td>0</td>\n",
       "      <td>CCOC1=C(C=C(C=C1)C(C(C)(C)C)N)OCC</td>\n",
       "    </tr>\n",
       "    <tr>\n",
       "      <th>1</th>\n",
       "      <td>1</td>\n",
       "      <td>C1=CC=C(C=C1)C2C=C(NC(=O)C2C3=NC(=S)NC(=O)C34C...</td>\n",
       "    </tr>\n",
       "    <tr>\n",
       "      <th>2</th>\n",
       "      <td>2</td>\n",
       "      <td>COC1=CC=C(C=C1)C(=O)C2=C(C(=C3N2C4=CC=CC=C4C=C...</td>\n",
       "    </tr>\n",
       "  </tbody>\n",
       "</table>\n",
       "</div>"
      ],
      "text/plain": [
       "  id                                    molforge_smiles\n",
       "0  0                  CCOC1=C(C=C(C=C1)C(C(C)(C)C)N)OCC\n",
       "1  1  C1=CC=C(C=C1)C2C=C(NC(=O)C2C3=NC(=S)NC(=O)C34C...\n",
       "2  2  COC1=CC=C(C=C1)C(=O)C2=C(C(=C3N2C4=CC=CC=C4C=C..."
      ]
     },
     "execution_count": 5,
     "metadata": {},
     "output_type": "execute_result"
    }
   ],
   "source": [
    "# === Ejecución sobre todas las filas ===\n",
    "smiles_out = []\n",
    "for i, (idx, indices_str) in enumerate(zip(df_idx[\"id\"], df_idx[\"indices\"]), start=1):\n",
    "    s = run_for_fp(str(indices_str), FP_NAME, MODEL_TYPE, CHECKPOINT_NAME, DECODE)\n",
    "    smiles_out.append((idx, s))\n",
    "    print(f\"[{i}/{len(df_idx)}] id={idx} -> {s}\")\n",
    "\n",
    "out_df = pd.DataFrame(smiles_out, columns=[\"id\", \"molforge_smiles\"])\n",
    "OUT_PATH.parent.mkdir(parents=True, exist_ok=True)\n",
    "out_df.to_csv(OUT_PATH, index=False)\n",
    "print(\"[OK] Guardado:\", OUT_PATH, \"| filas=\", len(out_df))\n",
    "out_df.head()\n"
   ]
  }
 ],
 "metadata": {
  "kernelspec": {
   "display_name": "Python 3 (ipykernel)",
   "language": "python",
   "name": "python3"
  },
  "language_info": {
   "codemirror_mode": {
    "name": "ipython",
    "version": 3
   },
   "file_extension": ".py",
   "mimetype": "text/x-python",
   "name": "python",
   "nbconvert_exporter": "python",
   "pygments_lexer": "ipython3",
   "version": "3.8.12"
  }
 },
 "nbformat": 4,
 "nbformat_minor": 5
}
