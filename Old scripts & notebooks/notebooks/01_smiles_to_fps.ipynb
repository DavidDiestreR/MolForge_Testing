{
 "cells": [
  {
   "cell_type": "markdown",
   "id": "06f69bb1",
   "metadata": {},
   "source": [
    "# 01 · SMILES → Fingerprints (CPU)\n",
    "Convierte una tabla con **SMILES** en **fingerprints** usando RDKit.\n",
    "\n",
    "**Entrada**: CSV/Parquet con columna `smiles` (y opcional `id`).\n",
    "\n",
    "**Salida**: Parquet/CSV con `id`, `smiles` y `fp_0000...` en `data/MolForge_input/`.\n"
   ]
  },
  {
   "cell_type": "markdown",
   "id": "42c875cc",
   "metadata": {},
   "source": [
    "## Parámetros"
   ]
  },
  {
   "cell_type": "code",
   "execution_count": null,
   "id": "1e7c4999",
   "metadata": {},
   "outputs": [],
   "source": [
    "# Ajusta estos parámetros\n",
    "input_path = \"data/SMILES/molecules.csv\"  # CSV o Parquet\n",
    "smiles_col = \"smiles\"\n",
    "id_col = None  # por ejemplo \"id\" si la tienes\n",
    "fp = \"morgan\"  # morgan | maccs | rdkit | atompair | tt\n",
    "radius = 2     # solo para morgan\n",
    "nBits = 2048   # ignorado en MACCS\n",
    "output_path = \"data/MolForge_input/morgan_2048.parquet\"  # .parquet o .csv"
   ]
  },
  {
   "cell_type": "markdown",
   "id": "bcd37b7e",
   "metadata": {},
   "source": [
    "## Dependencias (entorno `molforge-tools`)"
   ]
  },
  {
   "cell_type": "code",
   "execution_count": null,
   "id": "7e446611",
   "metadata": {},
   "outputs": [],
   "source": [
    "import os, pandas as pd, numpy as np\n",
    "from rdkit import Chem, DataStructs\n",
    "from rdkit.Chem import AllChem, MACCSkeys, rdMolDescriptors as rdDesc\n",
    "\n",
    "def to_numpy(bitvect):\n",
    "    n_bits = bitvect.GetNumBits()\n",
    "    arr = np.zeros((n_bits,), dtype=np.uint8)\n",
    "    DataStructs.ConvertToNumpyArray(bitvect, arr)\n",
    "    return arr\n",
    "\n",
    "def fp_from_mol(mol, kind: str, nBits: int, radius: int):\n",
    "    kind = kind.lower()\n",
    "    if kind == \"morgan\":\n",
    "        bv = AllChem.GetMorganFingerprintAsBitVect(mol, radius=radius, nBits=nBits)\n",
    "    elif kind == \"maccs\":\n",
    "        bv = MACCSkeys.GenMACCSKeys(mol)  # 167 bits\n",
    "    elif kind == \"rdkit\":\n",
    "        bv = Chem.RDKFingerprint(mol, fpSize=nBits)\n",
    "    elif kind == \"atompair\":\n",
    "        bv = rdDesc.GetHashedAtomPairFingerprintAsBitVect(mol, nBits=nBits)\n",
    "    elif kind == \"tt\":\n",
    "        bv = rdDesc.GetHashedTopologicalTorsionFingerprintAsBitVect(mol, nBits=nBits)\n",
    "    else:\n",
    "        raise ValueError(f\"Fingerprint desconocido: {kind}\")\n",
    "    return to_numpy(bv)\n",
    "\n",
    "def read_table(path: str, smiles_col: str):\n",
    "    ext = os.path.splitext(path)[1].lower()\n",
    "    if ext == \".parquet\":\n",
    "        df = pd.read_parquet(path)\n",
    "    elif ext in (\".csv\", \".tsv\", \".txt\"):\n",
    "        sep = \"\\t\" if ext == \".tsv\" else None\n",
    "        df = pd.read_csv(path, sep=sep)\n",
    "    else:\n",
    "        raise ValueError(f\"Extensión no soportada: {ext}\")\n",
    "    if smiles_col not in df.columns:\n",
    "        raise ValueError(f\"No existe la columna SMILES: {smiles_col}\")\n",
    "    return df"
   ]
  },
  {
   "cell_type": "markdown",
   "id": "ce7847b4",
   "metadata": {},
   "source": [
    "## Ejecutar conversión"
   ]
  },
  {
   "cell_type": "code",
   "execution_count": null,
   "id": "fa6373c4",
   "metadata": {},
   "outputs": [],
   "source": [
    "df_in = read_table(input_path, smiles_col)\n",
    "if id_col and id_col in df_in.columns:\n",
    "    ids = df_in[id_col].astype(str).tolist()\n",
    "else:\n",
    "    ids = df_in.index.astype(str).tolist()\n",
    "\n",
    "smiles_list = df_in[smiles_col].astype(str).tolist()\n",
    "\n",
    "fps_list, keep_ids, keep_smiles = [], [], []\n",
    "for _id, smi in zip(ids, smiles_list):\n",
    "    mol = Chem.MolFromSmiles(smi)\n",
    "    if mol is None:\n",
    "        continue\n",
    "    arr = fp_from_mol(mol, fp, nBits, radius)\n",
    "    fps_list.append(arr); keep_ids.append(_id); keep_smiles.append(smi)\n",
    "\n",
    "if not fps_list:\n",
    "    raise SystemExit(\"No se generó ningún fingerprint (¿SMILES inválidos?)\")\n",
    "\n",
    "nbits = len(fps_list[0])\n",
    "col_names = [f\"fp_{i:04d}\" for i in range(nbits)]\n",
    "df_fp = pd.DataFrame(np.vstack(fps_list), columns=col_names)\n",
    "df_fp.insert(0, \"smiles\", keep_smiles)\n",
    "df_fp.insert(0, \"id\", keep_ids)\n",
    "\n",
    "ext = os.path.splitext(output_path)[1].lower()\n",
    "os.makedirs(os.path.dirname(output_path) or \".\", exist_ok=True)\n",
    "if ext == \".parquet\":\n",
    "    df_fp.to_parquet(output_path, index=False)\n",
    "elif ext in (\".csv\", \".tsv\", \".txt\"):\n",
    "    sep = \"\\t\" if ext == \".tsv\" else \",\"\n",
    "    df_fp.to_csv(output_path, index=False, sep=sep)\n",
    "else:\n",
    "    raise ValueError(f\"Extensión de salida no soportada: {ext}\")\n",
    "\n",
    "print(f\"[OK] Guardado: {output_path} | filas={len(df_fp)} | bits={nbits}\")"
   ]
  }
 ],
 "metadata": {
  "kernelspec": {
   "display_name": "Python (molforge-tools)",
   "language": "python",
   "name": "molforge-tools"
  },
  "language_info": {
   "codemirror_mode": {
    "name": "ipython",
    "version": 3
   },
   "file_extension": ".py",
   "mimetype": "text/x-python",
   "name": "python",
   "nbconvert_exporter": "python",
   "pygments_lexer": "ipython3",
   "version": "3.14.0"
  }
 },
 "nbformat": 4,
 "nbformat_minor": 5
}
