{
 "cells": [
  {
   "cell_type": "markdown",
   "id": "f376d531",
   "metadata": {},
   "source": [
    "\n",
    "# 🔧 MolForge Tools — Smoke Test Notebook\n",
    "\n",
    "Este notebook prueba rápidamente que el entorno **`molforge-tools`** funciona: `numpy`, `pandas`, `pyarrow` e **`rdkit`**, además de `ipywidgets`.\n",
    "\n",
    "**Instrucciones**:\n",
    "1. Abre este `.ipynb` en JupyterLab o VS Code.\n",
    "2. Selecciona el kernel **Python (molforge-tools)**.\n",
    "3. Ejecuta **Run All**. Si todo va bien, verás versiones, tablas y resultados sin errores.\n"
   ]
  },
  {
   "cell_type": "code",
   "execution_count": 1,
   "id": "7717c9a5",
   "metadata": {},
   "outputs": [
    {
     "name": "stdout",
     "output_type": "stream",
     "text": [
      "Python: 3.14.0\n",
      "Platform: Linux-6.14.0-33-generic-x86_64-with-glibc2.41\n",
      "numpy: 2.3.3\n",
      "pandas: 2.3.3\n",
      "pyarrow: 21.0.0\n",
      "rdkit: 2025.09.1\n",
      "ipywidgets: 8.1.7\n"
     ]
    },
    {
     "data": {
      "text/markdown": [
       "**✅ Importación correcta de todos los paquetes.**"
      ],
      "text/plain": [
       "<IPython.core.display.Markdown object>"
      ]
     },
     "metadata": {},
     "output_type": "display_data"
    }
   ],
   "source": [
    "\n",
    "import sys, platform\n",
    "import numpy as np\n",
    "import pandas as pd\n",
    "\n",
    "# pyarrow\n",
    "import pyarrow as pa\n",
    "import pyarrow.parquet as pq\n",
    "\n",
    "# rdkit\n",
    "from rdkit import Chem\n",
    "from rdkit.Chem import Descriptors, rdMolDescriptors\n",
    "\n",
    "# ipywidgets\n",
    "import ipywidgets as widgets\n",
    "from IPython.display import display, Markdown\n",
    "\n",
    "print(\"Python:\", sys.version.split()[0])\n",
    "print(\"Platform:\", platform.platform())\n",
    "\n",
    "print(\"numpy:\", np.__version__)\n",
    "print(\"pandas:\", pd.__version__)\n",
    "print(\"pyarrow:\", pa.__version__)\n",
    "\n",
    "# rdkit version is available via RDLogger or rdBase\n",
    "from rdkit import rdBase\n",
    "print(\"rdkit:\", rdBase.rdkitVersion)\n",
    "\n",
    "print(\"ipywidgets:\", widgets.__version__)\n",
    "display(Markdown(\"**✅ Importación correcta de todos los paquetes.**\"))\n"
   ]
  },
  {
   "cell_type": "code",
   "execution_count": 2,
   "id": "39fd497a",
   "metadata": {},
   "outputs": [
    {
     "name": "stdout",
     "output_type": "stream",
     "text": [
      "a = [1. 2. 3. 4. 5.]\n",
      "b = [0.   0.25 0.5  0.75 1.  ]\n",
      "a·b = 10.0\n"
     ]
    },
    {
     "data": {
      "text/html": [
       "<div>\n",
       "<style scoped>\n",
       "    .dataframe tbody tr th:only-of-type {\n",
       "        vertical-align: middle;\n",
       "    }\n",
       "\n",
       "    .dataframe tbody tr th {\n",
       "        vertical-align: top;\n",
       "    }\n",
       "\n",
       "    .dataframe thead th {\n",
       "        text-align: right;\n",
       "    }\n",
       "</style>\n",
       "<table border=\"1\" class=\"dataframe\">\n",
       "  <thead>\n",
       "    <tr style=\"text-align: right;\">\n",
       "      <th></th>\n",
       "      <th>x</th>\n",
       "      <th>y</th>\n",
       "      <th>txt</th>\n",
       "    </tr>\n",
       "  </thead>\n",
       "  <tbody>\n",
       "    <tr>\n",
       "      <th>0</th>\n",
       "      <td>0</td>\n",
       "      <td>0</td>\n",
       "      <td>a</td>\n",
       "    </tr>\n",
       "    <tr>\n",
       "      <th>1</th>\n",
       "      <td>1</td>\n",
       "      <td>1</td>\n",
       "      <td>b</td>\n",
       "    </tr>\n",
       "    <tr>\n",
       "      <th>2</th>\n",
       "      <td>2</td>\n",
       "      <td>4</td>\n",
       "      <td>c</td>\n",
       "    </tr>\n",
       "    <tr>\n",
       "      <th>3</th>\n",
       "      <td>3</td>\n",
       "      <td>9</td>\n",
       "      <td>d</td>\n",
       "    </tr>\n",
       "    <tr>\n",
       "      <th>4</th>\n",
       "      <td>4</td>\n",
       "      <td>16</td>\n",
       "      <td>e</td>\n",
       "    </tr>\n",
       "  </tbody>\n",
       "</table>\n",
       "</div>"
      ],
      "text/plain": [
       "   x   y txt\n",
       "0  0   0   a\n",
       "1  1   1   b\n",
       "2  2   4   c\n",
       "3  3   9   d\n",
       "4  4  16   e"
      ]
     },
     "metadata": {},
     "output_type": "display_data"
    },
    {
     "name": "stdout",
     "output_type": "stream",
     "text": [
      "✅ NumPy y pandas funcionando.\n"
     ]
    }
   ],
   "source": [
    "\n",
    "# NumPy: una pequeña operación determinista\n",
    "a = np.arange(1, 6, dtype=float)\n",
    "b = np.linspace(0, 1, 5)\n",
    "c = a @ b  # producto punto\n",
    "print(\"a =\", a)\n",
    "print(\"b =\", b)\n",
    "print(\"a·b =\", c)\n",
    "\n",
    "# pandas: DataFrame simple\n",
    "df = pd.DataFrame({\n",
    "    \"x\": np.arange(5),\n",
    "    \"y\": np.power(np.arange(5), 2),\n",
    "    \"txt\": list(\"abcde\")\n",
    "})\n",
    "display(df)\n",
    "\n",
    "print(\"✅ NumPy y pandas funcionando.\")\n"
   ]
  },
  {
   "cell_type": "code",
   "execution_count": 3,
   "id": "adb74636",
   "metadata": {},
   "outputs": [
    {
     "data": {
      "text/html": [
       "<div>\n",
       "<style scoped>\n",
       "    .dataframe tbody tr th:only-of-type {\n",
       "        vertical-align: middle;\n",
       "    }\n",
       "\n",
       "    .dataframe tbody tr th {\n",
       "        vertical-align: top;\n",
       "    }\n",
       "\n",
       "    .dataframe thead th {\n",
       "        text-align: right;\n",
       "    }\n",
       "</style>\n",
       "<table border=\"1\" class=\"dataframe\">\n",
       "  <thead>\n",
       "    <tr style=\"text-align: right;\">\n",
       "      <th></th>\n",
       "      <th>x</th>\n",
       "      <th>y</th>\n",
       "      <th>txt</th>\n",
       "    </tr>\n",
       "  </thead>\n",
       "  <tbody>\n",
       "    <tr>\n",
       "      <th>0</th>\n",
       "      <td>0</td>\n",
       "      <td>0</td>\n",
       "      <td>a</td>\n",
       "    </tr>\n",
       "    <tr>\n",
       "      <th>1</th>\n",
       "      <td>1</td>\n",
       "      <td>1</td>\n",
       "      <td>b</td>\n",
       "    </tr>\n",
       "    <tr>\n",
       "      <th>2</th>\n",
       "      <td>2</td>\n",
       "      <td>4</td>\n",
       "      <td>c</td>\n",
       "    </tr>\n",
       "    <tr>\n",
       "      <th>3</th>\n",
       "      <td>3</td>\n",
       "      <td>9</td>\n",
       "      <td>d</td>\n",
       "    </tr>\n",
       "    <tr>\n",
       "      <th>4</th>\n",
       "      <td>4</td>\n",
       "      <td>16</td>\n",
       "      <td>e</td>\n",
       "    </tr>\n",
       "  </tbody>\n",
       "</table>\n",
       "</div>"
      ],
      "text/plain": [
       "   x   y txt\n",
       "0  0   0   a\n",
       "1  1   1   b\n",
       "2  2   4   c\n",
       "3  3   9   d\n",
       "4  4  16   e"
      ]
     },
     "metadata": {},
     "output_type": "display_data"
    },
    {
     "name": "stdout",
     "output_type": "stream",
     "text": [
      "✅ PyArrow in-memory Parquet round-trip OK (sin tocar disco).\n"
     ]
    }
   ],
   "source": [
    "\n",
    "# Crear una tabla Arrow desde pandas y hacer round-trip Parquet en memoria\n",
    "table = pa.Table.from_pandas(df)\n",
    "import io\n",
    "buf = io.BytesIO()\n",
    "pq.write_table(table, buf)\n",
    "buf.seek(0)\n",
    "table2 = pq.read_table(buf)\n",
    "df2 = table2.to_pandas()\n",
    "display(df2)\n",
    "\n",
    "assert df2.equals(df), \"El DataFrame tras el round-trip debe ser igual al original\"\n",
    "print(\"✅ PyArrow in-memory Parquet round-trip OK (sin tocar disco).\")\n"
   ]
  },
  {
   "cell_type": "code",
   "execution_count": 4,
   "id": "4ca89465",
   "metadata": {},
   "outputs": [
    {
     "name": "stdout",
     "output_type": "stream",
     "text": [
      "SMILES (input): CC(=O)OC1=CC=CC=C1C(=O)O\n",
      "SMILES (canonical): CC(=O)Oc1ccccc1C(=O)O\n",
      "MolWeight: 180.159\n",
      "Num rings: 1\n",
      "ECFP4 bits on: 24 ejemplo de índices: [389, 456, 650, 695, 807, 909, 1017, 1035, 1047, 1057]\n"
     ]
    },
    {
     "data": {
      "text/html": [
       "<div>\n",
       "<style scoped>\n",
       "    .dataframe tbody tr th:only-of-type {\n",
       "        vertical-align: middle;\n",
       "    }\n",
       "\n",
       "    .dataframe tbody tr th {\n",
       "        vertical-align: top;\n",
       "    }\n",
       "\n",
       "    .dataframe thead th {\n",
       "        text-align: right;\n",
       "    }\n",
       "</style>\n",
       "<table border=\"1\" class=\"dataframe\">\n",
       "  <thead>\n",
       "    <tr style=\"text-align: right;\">\n",
       "      <th></th>\n",
       "      <th>smiles_in</th>\n",
       "      <th>smiles_canonical</th>\n",
       "      <th>mol_weight</th>\n",
       "      <th>num_rings</th>\n",
       "      <th>ecfp4_bits_on</th>\n",
       "      <th>first_ring_example_atom_ids</th>\n",
       "    </tr>\n",
       "  </thead>\n",
       "  <tbody>\n",
       "    <tr>\n",
       "      <th>0</th>\n",
       "      <td>CC(=O)OC1=CC=CC=C1C(=O)O</td>\n",
       "      <td>CC(=O)Oc1ccccc1C(=O)O</td>\n",
       "      <td>180.159</td>\n",
       "      <td>1</td>\n",
       "      <td>24</td>\n",
       "      <td>[4, 9, 8, 7, 6, 5]</td>\n",
       "    </tr>\n",
       "  </tbody>\n",
       "</table>\n",
       "</div>"
      ],
      "text/plain": [
       "                  smiles_in       smiles_canonical  mol_weight  num_rings  \\\n",
       "0  CC(=O)OC1=CC=CC=C1C(=O)O  CC(=O)Oc1ccccc1C(=O)O     180.159          1   \n",
       "\n",
       "   ecfp4_bits_on first_ring_example_atom_ids  \n",
       "0             24          [4, 9, 8, 7, 6, 5]  "
      ]
     },
     "metadata": {},
     "output_type": "display_data"
    },
    {
     "name": "stdout",
     "output_type": "stream",
     "text": [
      "✅ RDKit básico funcionando (parseo, propiedades, fingerprint).\n"
     ]
    }
   ],
   "source": [
    "from rdkit import Chem, RDLogger\n",
    "from rdkit.Chem import Descriptors, rdFingerprintGenerator\n",
    "import pandas as pd\n",
    "\n",
    "# (opcional) silenciar avisos de RDKit\n",
    "RDLogger.DisableLog('rdApp.warning')\n",
    "\n",
    "# RDKit: molécula de ejemplo (Aspirina)\n",
    "smiles = \"CC(=O)OC1=CC=CC=C1C(=O)O\"\n",
    "mol = Chem.MolFromSmiles(smiles)\n",
    "assert mol is not None, \"RDKit no pudo parsear el SMILES\"\n",
    "\n",
    "# Propiedades básicas\n",
    "mw = Descriptors.MolWt(mol)\n",
    "can_smi = Chem.MolToSmiles(mol, canonical=True)\n",
    "\n",
    "# Número de anillos (API moderna)\n",
    "ring_info = mol.GetRingInfo()\n",
    "ring_count = ring_info.NumRings()           # entero\n",
    "atom_rings = ring_info.AtomRings()          # tuplas con índices de átomos en cada anillo\n",
    "\n",
    "# Morgan fingerprint (ECFP4 = radio 2, 2048 bits) con el generador moderno\n",
    "gen = rdFingerprintGenerator.GetMorganGenerator(radius=2, fpSize=2048)\n",
    "fp = gen.GetFingerprint(mol)                # ExplicitBitVect\n",
    "on_bits = list(fp.GetOnBits())\n",
    "\n",
    "print(\"SMILES (input):\", smiles)\n",
    "print(\"SMILES (canonical):\", can_smi)\n",
    "print(\"MolWeight:\", round(mw, 4))\n",
    "print(\"Num rings:\", ring_count)\n",
    "print(\"ECFP4 bits on:\", len(on_bits), \"ejemplo de índices:\", on_bits[:10])\n",
    "\n",
    "# DataFrame resumen\n",
    "df_props = pd.DataFrame([{\n",
    "    \"smiles_in\": smiles,\n",
    "    \"smiles_canonical\": can_smi,\n",
    "    \"mol_weight\": mw,\n",
    "    \"num_rings\": ring_count,\n",
    "    \"ecfp4_bits_on\": len(on_bits),\n",
    "    \"first_ring_example_atom_ids\": list(atom_rings[0]) if ring_count > 0 else None\n",
    "}])\n",
    "display(df_props)\n",
    "\n",
    "print(\"✅ RDKit básico funcionando (parseo, propiedades, fingerprint).\")"
   ]
  },
  {
   "cell_type": "code",
   "execution_count": 5,
   "id": "fbd192fb",
   "metadata": {},
   "outputs": [
    {
     "data": {
      "application/vnd.jupyter.widget-view+json": {
       "model_id": "0b8432f3bda6483cbbdcac7f5c4dff25",
       "version_major": 2,
       "version_minor": 0
      },
      "text/plain": [
       "IntSlider(value=3, description='n:', max=10)"
      ]
     },
     "metadata": {},
     "output_type": "display_data"
    },
    {
     "data": {
      "application/vnd.jupyter.widget-view+json": {
       "model_id": "929af58c11524281b897398259cae170",
       "version_major": 2,
       "version_minor": 0
      },
      "text/plain": [
       "Output()"
      ]
     },
     "metadata": {},
     "output_type": "display_data"
    },
    {
     "name": "stdout",
     "output_type": "stream",
     "text": [
      "✅ ipywidgets renderizado (si no ves el slider, comprueba que ipywidgets está habilitado).\n"
     ]
    }
   ],
   "source": [
    "\n",
    "# Widgets: slider que muestra un cálculo y una tabla derivada\n",
    "slider = widgets.IntSlider(value=3, min=0, max=10, step=1, description=\"n:\")\n",
    "out = widgets.Output()\n",
    "\n",
    "def on_change(change):\n",
    "    if change[\"name\"] == \"value\":\n",
    "        n = change[\"new\"]\n",
    "        with out:\n",
    "            out.clear_output()\n",
    "            arr = np.arange(n+1)\n",
    "            dfw = pd.DataFrame({\"k\": arr, \"k^2\": arr**2})\n",
    "            display(Markdown(f\"**n = {n} → n^2 = {n*n}**\"))\n",
    "            display(dfw)\n",
    "\n",
    "slider.observe(on_change)\n",
    "display(slider)\n",
    "display(out)\n",
    "\n",
    "# Disparar una primera salida\n",
    "slider.value = slider.value  # fuerza el callback\n",
    "\n",
    "print(\"✅ ipywidgets renderizado (si no ves el slider, comprueba que ipywidgets está habilitado).\")\n"
   ]
  },
  {
   "cell_type": "code",
   "execution_count": null,
   "id": "16227950-9bfb-49d3-8085-4a22f49e4e01",
   "metadata": {},
   "outputs": [],
   "source": []
  }
 ],
 "metadata": {
  "kernelspec": {
   "display_name": "Python (molforge-tools)",
   "language": "python",
   "name": "molforge-tools"
  },
  "language_info": {
   "codemirror_mode": {
    "name": "ipython",
    "version": 3
   },
   "file_extension": ".py",
   "mimetype": "text/x-python",
   "name": "python",
   "nbconvert_exporter": "python",
   "pygments_lexer": "ipython3",
   "version": "3.14.0"
  },
  "toc-autonumbering": false
 },
 "nbformat": 4,
 "nbformat_minor": 5
}
