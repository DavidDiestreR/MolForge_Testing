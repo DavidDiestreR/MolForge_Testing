{
 "cells": [
  {
   "cell_type": "markdown",
   "id": "64679711-634d-42ea-830d-3801b8473efe",
   "metadata": {},
   "source": [
    "# 01 · SMILES → Fingerprints (CPU)\n",
    "Convierte una tabla con **SMILES** en **fingerprints** usando RDKit.\n",
    "\n",
    "**Entrada**: CSV/Parquet con columna `smiles` (y opcional `id`).\n",
    "\n",
    "**Salida**: Parquet/CSV con `id`, `smiles` y `fp_0000...` en `data/MolForge_input/`.\n"
   ]
  },
  {
   "cell_type": "code",
   "execution_count": null,
   "id": "d84dde72-ba6b-4854-8f93-1d82080cb20a",
   "metadata": {},
   "outputs": [],
   "source": []
  }
 ],
 "metadata": {
  "kernelspec": {
   "display_name": "Python (molforge-tools)",
   "language": "python",
   "name": "molforge-tools"
  },
  "language_info": {
   "codemirror_mode": {
    "name": "ipython",
    "version": 3
   },
   "file_extension": ".py",
   "mimetype": "text/x-python",
   "name": "python",
   "nbconvert_exporter": "python",
   "pygments_lexer": "ipython3",
   "version": "3.14.0"
  }
 },
 "nbformat": 4,
 "nbformat_minor": 5
}
