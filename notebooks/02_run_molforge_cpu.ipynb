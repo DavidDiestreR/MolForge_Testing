{
 "cells": [
  {
   "cell_type": "markdown",
   "id": "6a05fc49",
   "metadata": {},
   "source": [
    "# 02 · Ejecutar MolForge (CPU)\n",
    "Notebook para lanzar MolForge **en CPU** a partir de un fichero de fingerprints."
   ]
  },
  {
   "cell_type": "markdown",
   "id": "f0431349",
   "metadata": {},
   "source": [
    "## Parámetros"
   ]
  },
  {
   "cell_type": "code",
   "execution_count": null,
   "id": "a33ee15e",
   "metadata": {},
   "outputs": [],
   "source": [
    "# Rutas\n",
    "fps_path = \"data/MolForge_input/morgan_2048.parquet\"\n",
    "checkpoint_path = \"data/models/your_checkpoint.pth\"  # pon aquí tu .pth\n",
    "out_path = \"data/MolForge_output/molforge_outputs.parquet\"\n",
    "\n",
    "# Config de MolForge\n",
    "fp_name = \"ECFP4\"           # Debe corresponder al modelo entrenado\n",
    "model_type = \"smiles\"       # o \"selfies\" si aplica\n",
    "decode = \"greedy\"           # o \"beam\" si tu repo lo soporta"
   ]
  },
  {
   "cell_type": "markdown",
   "id": "4890a84a",
   "metadata": {},
   "source": [
    "## Dependencias y modo CPU"
   ]
  },
  {
   "cell_type": "code",
   "execution_count": null,
   "id": "2d9b9d20",
   "metadata": {},
   "outputs": [],
   "source": [
    "import os, sys, io, pandas as pd\n",
    "from contextlib import redirect_stdout\n",
    "\n",
    "# Forzamos CPU (sin selector GPU/CPU)\n",
    "os.environ[\"CUDA_VISIBLE_DEVICES\"] = \"-1\"\n",
    "\n",
    "# Import de MolForge\n",
    "from MolForge import main as molforge_main\n",
    "\n",
    "\n",
    "def read_table(path: str):\n",
    "    ext = os.path.splitext(path)[1].lower()\n",
    "    if ext == \".parquet\":\n",
    "        return pd.read_parquet(path)\n",
    "    elif ext in (\".csv\", \".tsv\", \".txt\"):\n",
    "        sep = \"\\t\" if ext == \".tsv\" else None\n",
    "        return pd.read_csv(path, sep=sep)\n",
    "    else:\n",
    "        raise ValueError(f\"Extensión no soportada: {ext}\")\n",
    "\n",
    "def active_indices(row_bits):\n",
    "    return \" \".join(str(i) for i, v in enumerate(row_bits) if int(v) == 1)\n",
    "\n",
    "def extract_result_from_stdout(stdout_str: str):\n",
    "    result = None\n",
    "    for line in stdout_str.splitlines():\n",
    "        if line.strip().startswith(\"Result:\"):\n",
    "            tokens = line.split(\"Result:\", 1)[1].strip()\n",
    "            result = tokens.replace(\" \", \"\")\n",
    "            break\n",
    "    return result\n",
    "\n",
    "def run_for_fp(indices_str: str, fp_name: str, model_type: str, checkpoint: str, decode: str):\n",
    "    argv_backup = sys.argv\n",
    "    sys.argv = [\n",
    "        \"predict.py\",\n",
    "        f\"--fp={fp_name}\",\n",
    "        f\"--model_type={model_type}\",\n",
    "        f\"--input={indices_str}\",\n",
    "        f\"--checkpoint={checkpoint}\",\n",
    "        f\"--decode={decode}\",\n",
    "    ]\n",
    "    buf = io.StringIO()\n",
    "    try:\n",
    "        with redirect_stdout(buf):\n",
    "            molforge_main()\n",
    "    finally:\n",
    "        sys.argv = argv_backup\n",
    "    out = buf.getvalue()\n",
    "    smiles = extract_result_from_stdout(out)\n",
    "    return smiles, out"
   ]
  },
  {
   "cell_type": "markdown",
   "id": "1f905301",
   "metadata": {},
   "source": [
    "## Ejecutar"
   ]
  },
  {
   "cell_type": "code",
   "execution_count": null,
   "id": "b46869c0",
   "metadata": {},
   "outputs": [],
   "source": [
    "df = read_table(fps_path)\n",
    "bit_cols = [c for c in df.columns if c.startswith(\"fp_\")]\n",
    "bit_cols = sorted(bit_cols, key=lambda c: int(c.split(\"_\")[1]))\n",
    "ids = df[\"id\"].astype(str).tolist() if \"id\" in df.columns else [str(i) for i in range(len(df))]\n",
    "\n",
    "results = []\n",
    "for i, idx in enumerate(ids):\n",
    "    row_bits = df.loc[df.index[i], bit_cols]\n",
    "    indices_str = active_indices(row_bits)\n",
    "    if not indices_str:\n",
    "        results.append((idx, None, \"\"))\n",
    "        continue\n",
    "    smiles, raw = run_for_fp(indices_str, fp_name, model_type, checkpoint_path, decode)\n",
    "    results.append((idx, smiles, raw))\n",
    "    print(f\"[{i+1}/{len(ids)}] id={idx} -> {smiles}\")\n",
    "\n",
    "out_df = pd.DataFrame(results, columns=[\"id\", \"molforge_smiles\", \"raw_stdout\"])\n",
    "ext = os.path.splitext(out_path)[1].lower()\n",
    "os.makedirs(os.path.dirname(out_path) or \".\", exist_ok=True)\n",
    "if ext == \".parquet\":\n",
    "    out_df.to_parquet(out_path, index=False)\n",
    "elif ext in (\".csv\", \".tsv\", \".txt\"):\n",
    "    sep = \"\\t\" if ext == \".tsv\" else \",\"\n",
    "    out_df.to_csv(out_path, index=False, sep=sep)\n",
    "else:\n",
    "    raise ValueError(f\"Extensión de salida no soportada: {ext}\")\n",
    "\n",
    "print(f\"[OK] Guardado: {out_path} | filas={len(out_df)}\")"
   ]
  }
 ],
 "metadata": {
  "language_info": {
   "name": "python"
  }
 },
 "nbformat": 4,
 "nbformat_minor": 5
}
